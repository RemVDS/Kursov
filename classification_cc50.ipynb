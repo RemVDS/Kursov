{
 "cells": [
  {
   "cell_type": "markdown",
   "id": "c3668d8b",
   "metadata": {},
   "source": [
    "# Классификация: CC50 > медианы"
   ]
  },
  {
   "cell_type": "code",
   "execution_count": 4,
   "id": "76de9577",
   "metadata": {},
   "outputs": [
    {
     "name": "stderr",
     "output_type": "stream",
     "text": [
      "/opt/anaconda3/lib/python3.12/site-packages/xgboost/training.py:183: UserWarning: [00:53:45] WARNING: /Users/runner/work/xgboost/xgboost/src/learner.cc:738: \n",
      "Parameters: { \"use_label_encoder\" } are not used.\n",
      "\n",
      "  bst.update(dtrain, iteration=i, fobj=obj)\n"
     ]
    },
    {
     "name": "stdout",
     "output_type": "stream",
     "text": [
      "[LightGBM] [Info] Number of positive: 385, number of negative: 387\n",
      "[LightGBM] [Info] Auto-choosing col-wise multi-threading, the overhead of testing was 0.003699 seconds.\n",
      "You can set `force_col_wise=true` to remove the overhead.\n",
      "[LightGBM] [Info] Total Bins 18285\n",
      "[LightGBM] [Info] Number of data points in the train set: 772, number of used features: 169\n",
      "[LightGBM] [Info] [binary:BoostFromScore]: pavg=0.498705 -> initscore=-0.005181\n",
      "[LightGBM] [Info] Start training from score -0.005181\n",
      "[LightGBM] [Warning] No further splits with positive gain, best gain: -inf\n",
      "[LightGBM] [Warning] No further splits with positive gain, best gain: -inf\n",
      "[LightGBM] [Warning] No further splits with positive gain, best gain: -inf\n",
      "[LightGBM] [Warning] No further splits with positive gain, best gain: -inf\n",
      "[LightGBM] [Warning] No further splits with positive gain, best gain: -inf\n",
      "[LightGBM] [Warning] No further splits with positive gain, best gain: -inf\n",
      "[LightGBM] [Warning] No further splits with positive gain, best gain: -inf\n",
      "[LightGBM] [Warning] No further splits with positive gain, best gain: -inf\n",
      "[LightGBM] [Warning] No further splits with positive gain, best gain: -inf\n",
      "[LightGBM] [Warning] No further splits with positive gain, best gain: -inf\n",
      "[LightGBM] [Warning] No further splits with positive gain, best gain: -inf\n",
      "[LightGBM] [Warning] No further splits with positive gain, best gain: -inf\n",
      "[LightGBM] [Warning] No further splits with positive gain, best gain: -inf\n",
      "[LightGBM] [Warning] No further splits with positive gain, best gain: -inf\n",
      "[LightGBM] [Warning] No further splits with positive gain, best gain: -inf\n",
      "[LightGBM] [Warning] No further splits with positive gain, best gain: -inf\n",
      "[LightGBM] [Warning] No further splits with positive gain, best gain: -inf\n",
      "[LightGBM] [Warning] No further splits with positive gain, best gain: -inf\n",
      "[LightGBM] [Warning] No further splits with positive gain, best gain: -inf\n",
      "[LightGBM] [Warning] No further splits with positive gain, best gain: -inf\n",
      "[LightGBM] [Warning] No further splits with positive gain, best gain: -inf\n",
      "[LightGBM] [Warning] No further splits with positive gain, best gain: -inf\n",
      "[LightGBM] [Warning] No further splits with positive gain, best gain: -inf\n",
      "[LightGBM] [Warning] No further splits with positive gain, best gain: -inf\n",
      "[LightGBM] [Warning] No further splits with positive gain, best gain: -inf\n",
      "[LightGBM] [Warning] No further splits with positive gain, best gain: -inf\n",
      "[LightGBM] [Warning] No further splits with positive gain, best gain: -inf\n",
      "[LightGBM] [Warning] No further splits with positive gain, best gain: -inf\n",
      "[LightGBM] [Warning] No further splits with positive gain, best gain: -inf\n",
      "[LightGBM] [Warning] No further splits with positive gain, best gain: -inf\n",
      "[LightGBM] [Warning] No further splits with positive gain, best gain: -inf\n",
      "[LightGBM] [Warning] No further splits with positive gain, best gain: -inf\n",
      "Logistic Regression: Accuracy=0.675, Precision=0.663, Recall=0.711, F1=0.687, AUC=0.777\n",
      "Random Forest: Accuracy=0.727, Precision=0.750, Recall=0.680, F1=0.714, AUC=0.805\n",
      "XGBoost: Accuracy=0.747, Precision=0.755, Recall=0.732, F1=0.743, AUC=0.817\n",
      "LightGBM: Accuracy=0.732, Precision=0.742, Recall=0.711, F1=0.726, AUC=0.811\n"
     ]
    }
   ],
   "source": [
    "import pandas as pd\n",
    "import numpy as np\n",
    "import re\n",
    "from sklearn.model_selection import train_test_split, GridSearchCV\n",
    "from sklearn.preprocessing import StandardScaler\n",
    "from sklearn.metrics import accuracy_score, precision_score, recall_score, f1_score, roc_auc_score\n",
    "from sklearn.linear_model import LogisticRegression\n",
    "from sklearn.ensemble import RandomForestClassifier\n",
    "from xgboost import XGBClassifier\n",
    "from lightgbm import LGBMClassifier\n",
    "\n",
    "\n",
    "# Загрузка данных\n",
    "df = pd.read_csv('/Users/rem/МИФИ/курсовая/dataset.csv')\n",
    "\n",
    "# Подготовка данных: исключаем столбцы с целевыми переменными\n",
    "features = [col for col in df.columns if col not in [\"IC50, mM\", \"CC50, mM\", \"SI\"]]\n",
    "X = df[features]\n",
    "y = (df[\"CC50, mM\"] > df['CC50, mM'].median()).astype(int)\n",
    "\n",
    "\n",
    "X_train, X_test, y_train, y_test = train_test_split(X, y, stratify=y, test_size=0.2, random_state=42)\n",
    "\n",
    "scaler = StandardScaler()\n",
    "X_train_scaled = scaler.fit_transform(X_train)\n",
    "X_test_scaled = scaler.transform(X_test)\n",
    "\n",
    "# Для моделей на основе градиентного бустинга (LightGBM) необходимо очистить имена признаков от специальных символов\n",
    "def clean_column(name):\n",
    "    return re.sub(r'[^\\w]', '_', name)\n",
    "\n",
    "X_train_clean = X_train.rename(columns=lambda col: clean_column(col))\n",
    "X_test_clean = X_test.rename(columns=lambda col: clean_column(col))\n",
    "\n",
    "# Обучение моделей\n",
    "logit = LogisticRegression(max_iter=1000)\n",
    "logit.fit(X_train_scaled, y_train)\n",
    "y_pred_logit = logit.predict(X_test_scaled)\n",
    "\n",
    "rf = RandomForestClassifier()\n",
    "rf.fit(X_train, y_train)\n",
    "y_pred_rf = rf.predict(X_test)\n",
    "\n",
    "xgb = XGBClassifier(use_label_encoder=False, eval_metric='logloss')\n",
    "xgb.fit(X_train, y_train)\n",
    "y_pred_xgb = xgb.predict(X_test)\n",
    "\n",
    "lgb = LGBMClassifier()\n",
    "lgb.fit(X_train_clean, y_train)\n",
    "y_pred_lgb = lgb.predict(X_test_clean)\n",
    "\n",
    "for name, preds, clf, xtest in [(\"Logistic Regression\", y_pred_logit, logit, X_test_scaled),\n",
    "                                (\"Random Forest\", y_pred_rf, rf, X_test),\n",
    "                                (\"XGBoost\", y_pred_xgb, xgb, X_test),\n",
    "                                (\"LightGBM\", y_pred_lgb, lgb, X_test)]:\n",
    "    print(f\"{name}: Accuracy={accuracy_score(y_test, preds):.3f}, Precision={precision_score(y_test, preds):.3f}, Recall={recall_score(y_test, preds):.3f}, F1={f1_score(y_test, preds):.3f}, AUC={roc_auc_score(y_test, clf.predict_proba(xtest)[:, 1]):.3f}\")\n"
   ]
  },
  {
   "cell_type": "markdown",
   "id": "63548c02",
   "metadata": {},
   "source": []
  }
 ],
 "metadata": {
  "kernelspec": {
   "display_name": "base",
   "language": "python",
   "name": "python3"
  },
  "language_info": {
   "codemirror_mode": {
    "name": "ipython",
    "version": 3
   },
   "file_extension": ".py",
   "mimetype": "text/x-python",
   "name": "python",
   "nbconvert_exporter": "python",
   "pygments_lexer": "ipython3",
   "version": "3.12.7"
  }
 },
 "nbformat": 4,
 "nbformat_minor": 5
}
